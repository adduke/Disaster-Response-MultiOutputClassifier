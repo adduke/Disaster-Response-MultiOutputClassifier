{
 "cells": [
  {
   "cell_type": "code",
   "execution_count": 2,
   "id": "2d83e830-3dc2-4199-a0a5-e4647c6418bd",
   "metadata": {},
   "outputs": [
    {
     "name": "stdout",
     "output_type": "stream",
     "text": [
      "[('DisasteResponse',)]\n"
     ]
    }
   ],
   "source": [
    "from sqlalchemy import create_engine, text\n",
    "\n",
    "# Create an SQLAlchemy engine\n",
    "engine = create_engine('sqlite:///../data/DisasterResponse.db')\n",
    "\n",
    "# Connect to the database\n",
    "with engine.connect() as connection:\n",
    "    # Define the SQL query using text\n",
    "    query = text(\"SELECT name FROM sqlite_master WHERE type='table';\")\n",
    "    \n",
    "    # Execute the query and fetch results\n",
    "    result = connection.execute(query)\n",
    "    \n",
    "    # Fetch all results\n",
    "    tables = result.fetchall()\n",
    "    \n",
    "    # Print the table names\n",
    "    print(tables)\n"
   ]
  },
  {
   "cell_type": "code",
   "execution_count": 4,
   "id": "c892ed4b-a64c-4965-b090-c76b54833cfd",
   "metadata": {},
   "outputs": [
    {
     "name": "stdout",
     "output_type": "stream",
     "text": [
      "   id                                            message  \\\n",
      "0   2  Weather update - a cold front from Cuba that c...   \n",
      "1   7            Is the Hurricane over or is it not over   \n",
      "2   8                    Looking for someone but no name   \n",
      "3   9  UN reports Leogane 80-90 destroyed. Only Hospi...   \n",
      "4  12  says: west side of Haiti, rest of the country ...   \n",
      "\n",
      "                                            original   genre  related-1  \\\n",
      "0  Un front froid se retrouve sur Cuba ce matin. ...  direct          1   \n",
      "1                 Cyclone nan fini osinon li pa fini  direct          1   \n",
      "2  Patnm, di Maryani relem pou li banm nouvel li ...  direct          1   \n",
      "3  UN reports Leogane 80-90 destroyed. Only Hospi...  direct          1   \n",
      "4  facade ouest d Haiti et le reste du pays aujou...  direct          1   \n",
      "\n",
      "   request-0  offer-0  aid_related-0  medical_help-0  medical_products-0  ...  \\\n",
      "0          0        0              0               0                   0  ...   \n",
      "1          0        0              1               0                   0  ...   \n",
      "2          0        0              0               0                   0  ...   \n",
      "3          1        0              1               0                   1  ...   \n",
      "4          0        0              0               0                   0  ...   \n",
      "\n",
      "   aid_centers-0  other_infrastructure-0  weather_related-0  floods-0  \\\n",
      "0              0                       0                  0         0   \n",
      "1              0                       0                  1         0   \n",
      "2              0                       0                  0         0   \n",
      "3              0                       0                  0         0   \n",
      "4              0                       0                  0         0   \n",
      "\n",
      "   storm-0  fire-0  earthquake-0  cold-0  other_weather-0  direct_report-0  \n",
      "0        0       0             0       0                0                0  \n",
      "1        1       0             0       0                0                0  \n",
      "2        0       0             0       0                0                0  \n",
      "3        0       0             0       0                0                0  \n",
      "4        0       0             0       0                0                0  \n",
      "\n",
      "[5 rows x 39 columns]\n"
     ]
    }
   ],
   "source": [
    "import pandas as pd\n",
    "from sqlalchemy import create_engine\n",
    "\n",
    "# Create an SQLAlchemy engine\n",
    "engine = create_engine('sqlite:///../data/DisasterResponse.db')\n",
    "\n",
    "# Load data using a SQL query\n",
    "query = \"SELECT * FROM DisasterResponse\"\n",
    "df = pd.read_sql(query, engine)\n",
    "\n",
    "# Display the first few rows of the DataFrame\n",
    "print(df.head())\n"
   ]
  }
 ],
 "metadata": {
  "kernelspec": {
   "display_name": "python312",
   "language": "python",
   "name": "python312"
  },
  "language_info": {
   "codemirror_mode": {
    "name": "ipython",
    "version": 3
   },
   "file_extension": ".py",
   "mimetype": "text/x-python",
   "name": "python",
   "nbconvert_exporter": "python",
   "pygments_lexer": "ipython3",
   "version": "3.12.3"
  }
 },
 "nbformat": 4,
 "nbformat_minor": 5
}
