{
 "cells": [
  {
   "cell_type": "markdown",
   "metadata": {},
   "source": [
    "# ML Pipeline Preparation\n",
    "Follow the instructions below to help you create your ML pipeline.\n",
    "### 1. Import libraries and load data from database.\n",
    "- Import Python libraries\n",
    "- Load dataset from database with [`read_sql_table`](https://pandas.pydata.org/pandas-docs/stable/generated/pandas.read_sql_table.html)\n",
    "- Define feature and target variables X and Y"
   ]
  },
  {
   "cell_type": "code",
   "execution_count": null,
   "metadata": {},
   "outputs": [],
   "source": [
    "import nltk\n",
    "nltk.download('punkt')\n",
    "nltk.download('wordnet')\n",
    "nltk.download('omw-1.4')\n",
    "nltk.download('averaged_perceptron_tagger')"
   ]
  },
  {
   "cell_type": "code",
   "execution_count": null,
   "metadata": {},
   "outputs": [],
   "source": [
    "# import libraries\n",
    "import numpy as np\n",
    "import pandas as pd\n",
    "import seaborn as sns\n",
    "import matplotlib.pyplot as plt\n",
    "import re\n",
    "import pickle\n",
    "from sqlalchemy import create_engine\n",
    "from nltk.tokenize import word_tokenize\n",
    "from nltk.stem import WordNetLemmatizer\n",
    "\n",
    "from sklearn.metrics import (f1_score, precision_score, recall_score,\n",
    "                             confusion_matrix, classification_report)\n",
    "from sklearn.model_selection import (GridSearchCV, train_test_split,\n",
    "                                     RandomizedSearchCV)\n",
    "from sklearn.multioutput import MultiOutputClassifier\n",
    "from sklearn.linear_model import LogisticRegression\n",
    "from sklearn.pipeline import Pipeline, FeatureUnion\n",
    "from sklearn.base import BaseEstimator, TransformerMixin\n",
    "from sklearn.feature_extraction.text import CountVectorizer, TfidfTransformer\n",
    "from sklearn.ensemble import RandomForestClassifier\n"
   ]
  },
  {
   "cell_type": "code",
   "execution_count": null,
   "metadata": {},
   "outputs": [],
   "source": [
    "# load data from database\n",
    "\n",
    "# Create an SQLAlchemy engine\n",
    "engine = create_engine('sqlite:///../data/InsertDatabaseName.db')\n",
    "\n",
    "# Load data using a SQL query\n",
    "query = \"SELECT * FROM clean_table\"\n",
    "df = pd.read_sql(query, engine)\n",
    "\n",
    "X = df['message'].values\n",
    "Y = df.drop(columns=['message', 'original', 'genre']).values"
   ]
  },
  {
   "cell_type": "markdown",
   "metadata": {},
   "source": [
    "### 2. Write a tokenization function to process your text data"
   ]
  },
  {
   "cell_type": "code",
   "execution_count": null,
   "metadata": {},
   "outputs": [],
   "source": [
    "def tokenize(text):\n",
    "    \"\"\" Function to tokenize and lemmatize text.\n",
    "    Args:\n",
    "        text (str): Input text to be tokenized.\n",
    "\n",
    "    Returns:\n",
    "        clean_tokens (list): List of cleaned tokens.\n",
    "    \"\"\"\n",
    "\n",
    "    # convert all into lower case\n",
    "    # Normaize data - remove dashes, puctuation etc.\n",
    "    pun_regex = r\"[^a-zA-Z0-9]\"\n",
    "    #text = text.apply(lambda x: re.sub(pun_regex, \" \", x))\n",
    "    text = re.sub(pun_regex, \" \", text)\n",
    "    # Remove all urls users may have left\n",
    "    url_regex = ('http[s]?://(?:[a-zA-Z]|[0-9]|[$-_@.&+]|'\n",
    "                 '[!*\\(\\),]|(?:%[0-9a-fA-F][0-9a-fA-F]))+')\n",
    "    #text = text.apply(lambda x: re.sub(url_regex, '', x))\n",
    "    text = re.sub(url_regex, \" \", text)\n",
    "\n",
    "    #tokens = text.apply(lambda x: word_tokenize(x))\n",
    "    tokens = word_tokenize(text)\n",
    "    lemmatizer = WordNetLemmatizer()\n",
    "\n",
    "    clean_tokens = []\n",
    "    for tok in tokens:\n",
    "        clean_tok = lemmatizer.lemmatize(tok).lower().strip()\n",
    "        clean_tokens.append(clean_tok)\n",
    "    return clean_tokens"
   ]
  },
  {
   "cell_type": "markdown",
   "metadata": {},
   "source": [
    "### 3. Build a machine learning pipeline\n",
    "This machine pipeline should take in the `message` column as input and output classification results on the other 36 categories in the dataset. You may find the [MultiOutputClassifier](http://scikit-learn.org/stable/modules/generated/sklearn.multioutput.MultiOutputClassifier.html) helpful for predicting multiple target variables."
   ]
  },
  {
   "cell_type": "code",
   "execution_count": null,
   "metadata": {},
   "outputs": [],
   "source": [
    "pipeline = Pipeline([\n",
    "        ('vect', CountVectorizer(tokenizer=tokenize)),\n",
    "        ('tfidf', TfidfTransformer()),\n",
    "        ('clf', MultiOutputClassifier(LogisticRegression()))\n",
    "        ])\n"
   ]
  },
  {
   "cell_type": "markdown",
   "metadata": {},
   "source": [
    "### 4. Train pipeline\n",
    "- Split data into train and test sets\n",
    "- Train pipeline"
   ]
  },
  {
   "cell_type": "code",
   "execution_count": null,
   "metadata": {
    "scrolled": true,
    "tags": []
   },
   "outputs": [],
   "source": [
    "X_train, X_test, y_train, y_test = train_test_split(X, Y, test_size=0.2)\n",
    "\n",
    "# train classifier\n",
    "pipeline.fit(X_train, y_train)\n"
   ]
  },
  {
   "cell_type": "markdown",
   "metadata": {},
   "source": [
    "### 5. Test your model\n",
    "Report the f1 score, precision and recall for each output category of the dataset. You can do this by iterating through the columns and calling sklearn's `classification_report` on each."
   ]
  },
  {
   "cell_type": "code",
   "execution_count": null,
   "metadata": {
    "tags": []
   },
   "outputs": [],
   "source": [
    "\n",
    "def report_summary(y_test, show_plot=False):\n",
    "     \"\"\" Function to evaluate the model's performance.\n",
    "    Args:\n",
    "        y_test (numpy.ndarray): Test data labels.\n",
    "        show_plot (bool): Flag to display confusion matrix heatmaps.\n",
    "    \"\"\"\n",
    "        \n",
    "    y_pred = pipeline.predict(X_test)\n",
    "    for i in range(y_test.shape[1]):\n",
    "        feature_name = df.drop(\n",
    "            columns=[\"message\", \"original\", \"genre\"]).columns[i]\n",
    "\n",
    "        labels = np.unique(y_pred[:, 1])\n",
    "        cf_matrix = confusion_matrix(\n",
    "            y_test[:, i], y_pred[:, i], labels=labels)\n",
    "        accuracy = (y_pred[:, i] == y_test[:, i]).mean()\n",
    "\n",
    "\n",
    "        # Creating a report for precision, recall and f1 score\n",
    "        print('\\033[91m' + f'{feature_name}' + '\\033[90m')\n",
    "        print(classification_report(y_test[:,i], y_pred[:,i], labels=labels))\n",
    "        if show_plot:\n",
    "            # Creating a seaborn confusion Matrix\n",
    "            plt.figure(figsize=(4, 3))  \n",
    "            # Create the heatmap\n",
    "            sns.heatmap(\n",
    "                cf_matrix, annot=True,\n",
    "                fmt='', cmap='Blues',\n",
    "                xticklabels=labels,\n",
    "                yticklabels=labels)\n",
    "            # Add a title for each heatmap (optional)\n",
    "            plt.title(f'Heatmap {feature_name}')\n",
    "            plt.show()\n",
    "        else:\n",
    "            pass\n",
    "        print(\"Accuracy:\", accuracy)\n",
    "        print()\n",
    "\n",
    "\n",
    "report_summary(y_test, show_plot=False)"
   ]
  },
  {
   "cell_type": "markdown",
   "metadata": {},
   "source": [
    "### 6. Improve your model\n",
    "Use grid search to find better parameters. "
   ]
  },
  {
   "cell_type": "code",
   "execution_count": null,
   "metadata": {
    "tags": []
   },
   "outputs": [],
   "source": [
    "parameters = {\n",
    "\n",
    "    #removing very common words (e.g., \"the\", \"and\") may be useful\n",
    "    'vect__max_df': [0.75, 1.0],\n",
    "    # Chose not to optimise by rare terms\n",
    "    # Chose not to alter by reducing the count of tokens\n",
    "    # Optimise regularisation strength for overfitting\n",
    "    'clf__estimator__C': [0.01, 0.1, 1.0, 10.0],\n",
    "    # Different can affect convergence speed and model performance\n",
    "    'clf__estimator__solver': ['liblinear', 'saga'],\n",
    "    'clf__estimator__max_iter': [200, 300]\n",
    "}\n",
    "\n",
    "cv = GridSearchCV(pipeline, param_grid=parameters)\n",
    "cv.fit(X_train, y_train)"
   ]
  },
  {
   "cell_type": "code",
   "execution_count": null,
   "metadata": {},
   "outputs": [],
   "source": [
    "# Best parameters\n",
    "best_params = cv.best_params_\n",
    "print(\"Best parameters found: \", best_params)"
   ]
  },
  {
   "cell_type": "code",
   "execution_count": null,
   "metadata": {
    "tags": []
   },
   "outputs": [],
   "source": [
    "# Best score\n",
    "best_score = cv.best_score_\n",
    "print(\"Best cross-validation score: \", best_score)\n",
    "\n",
    "# Best estimator\n",
    "best_estimator = cv.best_estimator_\n",
    "print(\"Best estimator: \", best_estimator)\n",
    "\n",
    "# Results of all grid search\n",
    "results = cv.cv_results_\n",
    "print(\"Grid search results: \", results)"
   ]
  },
  {
   "cell_type": "markdown",
   "metadata": {},
   "source": [
    "### 7. Test your model\n",
    "Show the accuracy, precision, and recall of the tuned model.  \n",
    "\n",
    "Since this project focuses on code quality, process, and  pipelines, there is no minimum performance metric needed to pass. However, make sure to fine tune your models for accuracy, precision and recall to make your project stand out - especially for your portfolio!"
   ]
  },
  {
   "cell_type": "code",
   "execution_count": null,
   "metadata": {
    "tags": []
   },
   "outputs": [],
   "source": [
    "report_summary(y_test, show_plot=False)"
   ]
  },
  {
   "cell_type": "markdown",
   "metadata": {},
   "source": [
    "### 8. Try improving your model further. Here are a few ideas:\n",
    "* try other machine learning algorithms\n",
    "* add other features besides the TF-IDF"
   ]
  },
  {
   "cell_type": "code",
   "execution_count": null,
   "metadata": {},
   "outputs": [],
   "source": [
    "from sklearn.decomposition import TruncatedSVD\n",
    "from sklearn.feature_selection import SelectKBest, chi2\n",
    "\n",
    "# Define the pipeline\n",
    "pipeline = Pipeline([\n",
    "    ('features', FeatureUnion([\n",
    "        ('text_pipeline', Pipeline([\n",
    "            ('vect', CountVectorizer(\n",
    "                tokenizer=tokenize, stop_words='english', ngram_range=(1, 2))),\n",
    "            ('tfidf', TfidfTransformer()),\n",
    "            ('best', SelectKBest(chi2, k=100))  # Select top 100 features\n",
    "        ])),\n",
    "        ('pca', TruncatedSVD(n_components=100))\n",
    "        # Dimensionality reduction with PCA\n",
    "    ])),\n",
    "    ('clf', MultiOutputClassifier(RandomForestClassifier()))\n",
    "])\n",
    "\n",
    "# Set hyperparameters for grid search\n",
    "parameters = {\n",
    "    'features__text_pipeline__vect__max_df': [0.75, 1.0],\n",
    "    'features__text_pipeline__vect__ngram_range': [(1, 1), (1, 2)],\n",
    "    'features__text_pipeline__tfidf__use_idf': [True, False],\n",
    "    'clf__estimator__n_estimators': [50, 100],\n",
    "    'clf__estimator__min_samples_split': [2, 4]\n",
    "}\n",
    "\n",
    "# Define grid search\n",
    "cv = GridSearchCV(pipeline, param_grid=parameters, cv=3, verbose=3, n_jobs=-1)\n",
    "\n",
    "# Fit the model\n",
    "cv.fit(X_train, y_train)\n",
    "\n",
    "# Get the best model\n",
    "best_model = cv.best_estimator_\n",
    "\n",
    "# Evaluate the best model\n",
    "report_summary(y_test, show_plot=False)"
   ]
  },
  {
   "cell_type": "code",
   "execution_count": null,
   "metadata": {},
   "outputs": [],
   "source": [
    "# Best parameters\n",
    "best_params = cv.best_params_\n",
    "print(\"Best parameters found: \", best_params)"
   ]
  },
  {
   "cell_type": "code",
   "execution_count": null,
   "metadata": {},
   "outputs": [],
   "source": [
    "pipeline.set_params(**best_params).fit(X_train, y_train)\n",
    "report_summary(y_test, show_plot=True)"
   ]
  },
  {
   "cell_type": "markdown",
   "metadata": {},
   "source": [
    "### 9. Export your model as a pickle file"
   ]
  },
  {
   "cell_type": "code",
   "execution_count": null,
   "metadata": {},
   "outputs": [],
   "source": [
    "import pickle\n",
    "# Save the model to a file\n",
    "with open('classifier_md2.pkl', 'wb') as file:\n",
    "    pickle.dump(pipeline, file)"
   ]
  },
  {
   "cell_type": "markdown",
   "metadata": {},
   "source": [
    "### 10. Use this notebook to complete `train_classifier.py`\n",
    "Use the template file attached in the Resources folder to write a script that runs the steps above to create a database and export a model based on a new dataset specified by the user."
   ]
  },
  {
   "cell_type": "code",
   "execution_count": null,
   "metadata": {},
   "outputs": [],
   "source": []
  }
 ],
 "metadata": {
  "kernelspec": {
   "display_name": "Python 3 (ipykernel)",
   "language": "python",
   "name": "python3"
  },
  "language_info": {
   "codemirror_mode": {
    "name": "ipython",
    "version": 3
   },
   "file_extension": ".py",
   "mimetype": "text/x-python",
   "name": "python",
   "nbconvert_exporter": "python",
   "pygments_lexer": "ipython3",
   "version": "3.9.12"
  }
 },
 "nbformat": 4,
 "nbformat_minor": 4
}
